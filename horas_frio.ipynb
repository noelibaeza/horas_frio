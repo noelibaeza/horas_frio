{
 "cells": [
  {
   "cell_type": "markdown",
   "metadata": {},
   "source": [
    "\n",
    "## Análisis de Heladas Agronómicas y Meteorológicas (Mayo - Septiembre: 2021-2024) ❄\n",
    "\n",
    "### Definiciones:\n",
    "* Helada meteorológica: Se considera helada meteorológica a cualquier descenso térmico igual o inferior a 0 °C, medido dentro de un abrigo meteorológico.\n",
    "* Helada agrometeorológica o agronómica: Se define como un descenso térmico igual o inferior a 3 °C, medido también en abrigo meteorológico, lo que equivale aproximadamente a 0 °C o menos a nivel de superficie al aire libre.\n",
    "* Objetivo del análisis:\n",
    "El propósito de este estudio es contabilizar las horas acumuladas:\n",
    "Por debajo de 0 °C para heladas meteorológicas.\n",
    "Por debajo de 3 °C para heladas agronómicas.\n",
    "El periodo de análisis abarca de mayo a septiembre para los años 2021, 2022, 2023 y 2024. Los resultados permitirán mapear la distribución espacial de las heladas en la provincia de Entre Ríos, generando información clave para la gestión del riesgo agrícola en la región."
   ]
  },
  {
   "cell_type": "code",
   "execution_count": 6,
   "metadata": {},
   "outputs": [],
   "source": [
    "import pandas as pd"
   ]
  },
  {
   "cell_type": "code",
   "execution_count": null,
   "metadata": {},
   "outputs": [
    {
     "name": "stdout",
     "output_type": "stream",
     "text": [
      "Cantidad de horas con temperatura inferior o igual a 3 grados Celsius en la estación San Jaime de la Frontera_1: 32.666666666666664\n",
      "Cantidad de horas con temperatura inferior o igual a 3 grados Celsius en la estación Santa Elena_2: 74.5\n",
      "Cantidad de horas con temperatura inferior o igual a 3 grados Celsius en la estación Sauce_3: 18.166666666666668\n",
      "Cantidad de horas con temperatura inferior o igual a 3 grados Celsius en la estación Sauce de Luna_4: 0.6666666666666666\n",
      "Cantidad de horas con temperatura inferior o igual a 3 grados Celsius en la estación Segundo Cuartel_5: 51.666666666666664\n",
      "Cantidad de horas con temperatura inferior o igual a 3 grados Celsius en la estación Sexto Distrito_6: 39.0\n",
      "Cantidad de horas con temperatura inferior o igual a 3 grados Celsius en la estación Strobel_7: 86.16666666666667\n",
      "Cantidad de horas con temperatura inferior o igual a 3 grados Celsius en la estación Tacuara_8: 50.5\n",
      "Cantidad de horas con temperatura inferior o igual a 3 grados Celsius en la estación Tres Bocas_9: 44.833333333333336\n",
      "Cantidad de horas con temperatura inferior o igual a 3 grados Celsius en la estación Tres Esquinas_10: 39.666666666666664\n",
      "Cantidad de horas con temperatura inferior o igual a 3 grados Celsius en la estación Urdinarrain_11: 71.0\n",
      "Cantidad de horas con temperatura inferior o igual a 3 grados Celsius en la estación Viale_12: 68.16666666666667\n",
      "Cantidad de horas con temperatura inferior o igual a 3 grados Celsius en la estación Victoria_13: 53.666666666666664\n",
      "Cantidad de horas con temperatura inferior o igual a 3 grados Celsius en la estación Villa Elisa_14: 39.666666666666664\n",
      "Cantidad de horas con temperatura inferior o igual a 3 grados Celsius en la estación Yerua_15: 14.666666666666666\n"
     ]
    }
   ],
   "source": [
    "# Cargar el archivo Excel\n",
    "xls = pd.ExcelFile(r'./data/24_AGOSTO_YERUA.xlsx')\n",
    "# Lista para almacenar los resultados\n",
    "resultados_frio = []\n",
    "# Obtener los nombres de las hojas\n",
    "hojas = xls.sheet_names\n",
    "# Iterar sobre cada hoja\n",
    "for hoja in hojas:\n",
    "    # Leer la hoja en un DataFrame, aplicando skiprows aquí\n",
    "    df = pd.read_excel(xls, hoja, skiprows=5)\n",
    "    \n",
    "    # Verificar si el DataFrame está vacío\n",
    "    if df.empty:\n",
    "        print(f'No hay datos disponibles para la estación {hoja}.')\n",
    "        resultados_frio.append({'Estacion': hoja, 'Horas Frias': 'Sin datos'})\n",
    "        continue\n",
    "    \n",
    "    # Filtrar los registros donde la temperatura es menor o igual a 3\n",
    "    df_frio = df[df['Temperatura [°C]'] <= 3]\n",
    "    \n",
    "    # Contar los registros y convertir a horas (cada registro representa 10 minutos, que es 1/6 de una hora)\n",
    "    horas_frias = len(df_frio) / 6\n",
    "    \n",
    "    # Agregar los resultados al diccionario\n",
    "    resultados_frio.append({'Estacion': hoja, 'Horas Frias': horas_frias})\n",
    "    \n",
    "    print(f'Cantidad de horas con temperatura inferior o igual a 3 grados Celsius en la estación {hoja}: {horas_frias}')\n",
    "\n",
    "# Crear un DataFrame con los resultados\n",
    "df_resultados_frio = pd.DataFrame(resultados_frio)\n",
    "\n",
    "# Guardar el DataFrame en un archivo Excel\n",
    "df_resultados_frio.to_excel('./data/15_SEPTIEMBRE_2024_HELADA_AGRONOMICA.xlsx', index=False)"
   ]
  },
  {
   "cell_type": "code",
   "execution_count": 10,
   "metadata": {},
   "outputs": [
    {
     "name": "stdout",
     "output_type": "stream",
     "text": [
      "Cantidad de horas con temperatura inferior o igual a 0 grados Celsius en la estación San Jaime de la Frontera_1: 3.3333333333333335\n",
      "Cantidad de horas con temperatura inferior o igual a 0 grados Celsius en la estación Santa Elena_2: 15.166666666666666\n",
      "Cantidad de horas con temperatura inferior o igual a 0 grados Celsius en la estación Sauce_3: 3.1666666666666665\n",
      "Cantidad de horas con temperatura inferior o igual a 0 grados Celsius en la estación Sauce de Luna_4: 0.0\n",
      "Cantidad de horas con temperatura inferior o igual a 0 grados Celsius en la estación Segundo Cuartel_5: 10.833333333333334\n",
      "Cantidad de horas con temperatura inferior o igual a 0 grados Celsius en la estación Sexto Distrito_6: 3.6666666666666665\n",
      "Cantidad de horas con temperatura inferior o igual a 0 grados Celsius en la estación Strobel_7: 27.333333333333332\n",
      "Cantidad de horas con temperatura inferior o igual a 0 grados Celsius en la estación Tacuara_8: 7.833333333333333\n",
      "Cantidad de horas con temperatura inferior o igual a 0 grados Celsius en la estación Tres Bocas_9: 10.666666666666666\n",
      "Cantidad de horas con temperatura inferior o igual a 0 grados Celsius en la estación Tres Esquinas_10: 4.666666666666667\n",
      "Cantidad de horas con temperatura inferior o igual a 0 grados Celsius en la estación Urdinarrain_11: 18.333333333333332\n",
      "Cantidad de horas con temperatura inferior o igual a 0 grados Celsius en la estación Viale_12: 19.333333333333332\n",
      "Cantidad de horas con temperatura inferior o igual a 0 grados Celsius en la estación Victoria_13: 4.333333333333333\n",
      "Cantidad de horas con temperatura inferior o igual a 0 grados Celsius en la estación Villa Elisa_14: 1.3333333333333333\n",
      "Cantidad de horas con temperatura inferior o igual a 0 grados Celsius en la estación Yerua_15: 0.0\n"
     ]
    }
   ],
   "source": [
    "# Cargar el archivo Excel\n",
    "xls = pd.ExcelFile(r'./data/24_AGOSTO_YERUA.xlsx')\n",
    "\n",
    "# Obtener los nombres de las hojas\n",
    "hojas = xls.sheet_names\n",
    "\n",
    "# Lista para almacenar los resultados\n",
    "resultados = []\n",
    "\n",
    "# Iterar sobre cada hoja\n",
    "for hoja in hojas:\n",
    "    # Leer la hoja en un DataFrame, aplicando skiprows aquí\n",
    "    df = pd.read_excel(xls, hoja, skiprows=5)\n",
    "    \n",
    "    # Verificar si el DataFrame está vacío\n",
    "    if df.empty:\n",
    "        print(f'No hay datos disponibles para la estación {hoja}.')\n",
    "        resultados.append((hoja, 0))\n",
    "        continue\n",
    "    \n",
    "    # Filtrar los registros donde la temperatura es menor o igual a 0\n",
    "    df_frio = df[df['Temperatura [°C]'] <= 0]\n",
    "    \n",
    "    # Contar los registros y convertir a horas (cada registro representa 10 minutos, que es 1/6 de una hora)\n",
    "    horas_frias = len(df_frio) / 6\n",
    "    \n",
    "    print(f'Cantidad de horas con temperatura inferior o igual a 0 grados Celsius en la estación {hoja}: {horas_frias}')\n",
    "    resultados.append((hoja, horas_frias))\n",
    "\n",
    "# Crear un DataFrame con los resultados\n",
    "df_resultados = pd.DataFrame(resultados, columns=['Estacion', 'Horas Frias'])\n",
    "\n",
    "# Guardar el DataFrame en un archivo Excel\n",
    "# df_resultados.to_excel(r'C:\\Users\\Admin\\Documents\\BOLSA DE CEREALES\\HELADAS\\data\\horas_frias_resultados_prueba.xlsx', index=False)"
   ]
  },
  {
   "cell_type": "markdown",
   "metadata": {},
   "source": [
    "## Mapas resultantes relizados con métodos de interpolación en QGIS\n",
    "\n",
    "![Descripción de la imagen](./data/2021_mayo_sep.jpg)\n",
    "\n",
    "![Descripción de la imagen](./data/2022_mayo_sept.jpg)\n",
    "\n",
    "![Descripción de la imagen](./data/2023_mayo_sep.jpg)\n",
    "\n",
    "![Descripción de la imagen](./data/2024_mayo.jpg)\n"
   ]
  }
 ],
 "metadata": {
  "kernelspec": {
   "display_name": "BDESPACIAL",
   "language": "python",
   "name": "python3"
  },
  "language_info": {
   "codemirror_mode": {
    "name": "ipython",
    "version": 3
   },
   "file_extension": ".py",
   "mimetype": "text/x-python",
   "name": "python",
   "nbconvert_exporter": "python",
   "pygments_lexer": "ipython3",
   "version": "3.12.1"
  }
 },
 "nbformat": 4,
 "nbformat_minor": 2
}
